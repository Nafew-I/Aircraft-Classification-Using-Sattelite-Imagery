{
  "cells": [
    {
      "cell_type": "markdown",
      "metadata": {
        "id": "view-in-github",
        "colab_type": "text"
      },
      "source": [
        "<a href=\"https://colab.research.google.com/github/Nafew-I/Aircraft-Classification-Using-Sattelite-Imagery/blob/main/Baseline_Model_Aircraft_Classification_from_Satellite_Imagery.ipynb\" target=\"_parent\"><img src=\"https://colab.research.google.com/assets/colab-badge.svg\" alt=\"Open In Colab\"/></a>"
      ]
    },
    {
      "cell_type": "code",
      "execution_count": null,
      "metadata": {
        "id": "Imw4m-Ww9epf"
      },
      "outputs": [],
      "source": [
        "import torch\n",
        "import torchvision\n",
        "import matplotlib.pyplot as plt\n",
        "import numpy as np\n",
        "import torch.nn as nn\n",
        "import torch.optim as optim\n",
        "from torch.utils.data import DataLoader, random_split\n",
        "from torchvision import datasets, transforms\n",
        "import os"
      ]
    },
    {
      "cell_type": "code",
      "execution_count": null,
      "metadata": {
        "colab": {
          "base_uri": "https://localhost:8080/"
        },
        "id": "GcDQAfp3Evu8",
        "outputId": "293cb9d7-f811-4475-c96e-4700d472feda"
      },
      "outputs": [
        {
          "output_type": "stream",
          "name": "stdout",
          "text": [
            "Drive already mounted at /content/drive; to attempt to forcibly remount, call drive.mount(\"/content/drive\", force_remount=True).\n"
          ]
        }
      ],
      "source": [
        "from google.colab import drive\n",
        "drive.mount('/content/drive')"
      ]
    },
    {
      "cell_type": "code",
      "execution_count": null,
      "metadata": {
        "id": "7WtPCOOORcla"
      },
      "outputs": [],
      "source": [
        "device = torch.device('cuda' if torch.cuda.is_available() else 'cpu')"
      ]
    },
    {
      "cell_type": "markdown",
      "source": [
        "# Image Processing:"
      ],
      "metadata": {
        "id": "q5IS-a6uBVb3"
      }
    },
    {
      "cell_type": "code",
      "execution_count": null,
      "metadata": {
        "id": "fXB2fFT87t0N"
      },
      "outputs": [],
      "source": [
        "batch_size = 64\n",
        "\n",
        "\n",
        "train_dir = '/content/drive/MyDrive/APS360 project/Created Aircraft Dataset'\n",
        "\n",
        "# Transform resizes the image, converts it to tensor, and normalizes it\n",
        "transform = transforms.Compose([\n",
        "    transforms.Resize((255, 255)),  # Resize to fit the model input size\n",
        "    transforms.ToTensor(), # Converts to tensor\n",
        "    transforms.Normalize([0.485, 0.456, 0.406], [0.229, 0.224, 0.225]), # Normalizes tensor\n",
        "    transforms.GaussianBlur(kernel_size = (3,3), sigma = (3,8)), # Applies gaussian blur to images\n",
        "    transforms.Grayscale(num_output_channels=1) # Converts images to black and white images\n",
        "    # Fine-tuning\n",
        "])"
      ]
    },
    {
      "cell_type": "code",
      "execution_count": null,
      "metadata": {
        "id": "hVf_ejs_XzlY"
      },
      "outputs": [],
      "source": [
        "# Preprocessing\n",
        "dataset = datasets.ImageFolder(root=train_dir, transform=transform)\n",
        "train_data, test_data, val_data = random_split(dataset, [0.8, 0.1, 0.1])\n",
        "\n",
        "# Data loading:\n",
        "trainloader = torch.utils.data.DataLoader(train_data, batch_size=batch_size, shuffle=True, pin_memory=True)\n",
        "valloader = torch.utils.data.DataLoader(val_data, batch_size=batch_size, shuffle=True, pin_memory=True)\n",
        "testloader = torch.utils.data.DataLoader(test_data, batch_size=batch_size, shuffle=True, pin_memory=True)"
      ]
    },
    {
      "cell_type": "markdown",
      "source": [
        "# Baseline Model Definition:"
      ],
      "metadata": {
        "id": "AmaNXjZtBitW"
      }
    },
    {
      "cell_type": "code",
      "execution_count": null,
      "metadata": {
        "id": "rTpMU-qnXg9P"
      },
      "outputs": [],
      "source": [
        "class LeNetCustom (nn.Module):\n",
        "    def __init__(self):\n",
        "      super(LeNetCustom, self).__init__()\n",
        "      self.conv1 = nn.Conv2d(1, 6, 5)\n",
        "      self.pool = nn.MaxPool2d(2, 2)\n",
        "      self.conv2 = nn.Conv2d(6, 16, 5)\n",
        "      self.fc1 = nn.Linear(16*60*60, 120)\n",
        "      self.fc2 = nn.Linear(120, 84)\n",
        "      self.fc3 = nn.Linear(84, 9)\n",
        "\n",
        "    def forward(self, a):\n",
        "      a = self.pool(nn.functional.relu(self.conv1(a)))\n",
        "      a = self.pool(nn.functional.relu(self.conv2(a)))\n",
        "      a = a.view(-1, 16*60*60)\n",
        "      a = nn.functional.relu(self.fc1(a))\n",
        "      a = nn.functional.relu(self.fc2(a))\n",
        "      a = self.fc3(a)\n",
        "      return a\n",
        "base_model = LeNetCustom()"
      ]
    },
    {
      "cell_type": "code",
      "execution_count": null,
      "metadata": {
        "id": "KEie8KAlPXBF"
      },
      "outputs": [],
      "source": [
        "# Fully-connected layer for classification\n",
        "device = next(iter(trainloader))[0].device\n",
        "base_model = base_model.to(device)"
      ]
    },
    {
      "cell_type": "code",
      "execution_count": null,
      "metadata": {
        "id": "hqAz3M6uXlxc"
      },
      "outputs": [],
      "source": [
        "# Loss function and optimizer\n",
        "criterion = nn.CrossEntropyLoss()\n",
        "optimizer = optim.Adam(base_model.parameters(), lr=0.001)"
      ]
    },
    {
      "cell_type": "markdown",
      "source": [
        "# Training and Validation:"
      ],
      "metadata": {
        "id": "FEeoCZzlCIV3"
      }
    },
    {
      "cell_type": "code",
      "execution_count": null,
      "metadata": {
        "id": "OpMsvTKZXokk"
      },
      "outputs": [],
      "source": [
        "from tqdm import tqdm\n",
        "\n",
        "def train(model, trainloader, num_epochs=10):\n",
        "  losses, training_accuracy, vacc = [], [], []\n",
        "  with tqdm(desc='Processing epochs', unit=' epochs completed') as pbar: # Progress bar to see how far model is to finish training\n",
        "    for _ in range(num_epochs):\n",
        "      model.train()\n",
        "      for inputs, labels in trainloader:\n",
        "            inputs, labels = inputs.to(device), labels.to(device)\n",
        "            optimizer.zero_grad()\n",
        "            outputs = model(inputs)\n",
        "            loss = criterion(outputs, labels)\n",
        "            losses.append(float(loss))\n",
        "            loss.backward()\n",
        "            optimizer.step()\n",
        "      training_accuracy.append(accuracy(model, testloader, test_data))\n",
        "      vacc.append(accuracy(model, valloader, val_data)) # Getting Validation accuracy using same method\n",
        "      pbar.update(1)\n",
        "\n",
        "  return training_accuracy, vacc, losses"
      ]
    },
    {
      "cell_type": "code",
      "execution_count": null,
      "metadata": {
        "id": "WUlo59WmDAJW"
      },
      "outputs": [],
      "source": [
        "def accuracy(model, testloader, testset):\n",
        "  model.eval()\n",
        "  correct = 0.0\n",
        "\n",
        "  for data in testloader:\n",
        "    images, labels = data\n",
        "    images = images.to(device)\n",
        "    labels = labels.to(device)\n",
        "\n",
        "    outputs = model(images)\n",
        "    _,preds = outputs.max(1)\n",
        "    correct += preds.eq(labels).sum()\n",
        "\n",
        "  return (correct.float()/len(testset)).item()"
      ]
    },
    {
      "cell_type": "code",
      "execution_count": null,
      "metadata": {
        "id": "v1R1iAzRDQ52",
        "colab": {
          "base_uri": "https://localhost:8080/"
        },
        "outputId": "a424f3a3-4d31-40ec-818f-75cb71a8a715"
      },
      "outputs": [
        {
          "output_type": "stream",
          "name": "stderr",
          "text": [
            "Processing epochs: 10 epochs completed [19:26, 116.61s/ epochs completed]\n"
          ]
        }
      ],
      "source": [
        "training_accuracy, training_losses, training_iter = train(base_model, trainloader, num_epochs=10) # Training the model and inputtting it into the validation model"
      ]
    },
    {
      "cell_type": "markdown",
      "source": [
        "# Plotting:"
      ],
      "metadata": {
        "id": "gK8c3S4RCB8C"
      }
    },
    {
      "cell_type": "code",
      "source": [
        "#plotting all necessary info:\n",
        "\n",
        "import matplotlib.pyplot as plt\n",
        "\n",
        "fig, (ax1, ax2) = plt.subplots(1, 2)\n",
        "\n",
        "ax1.plot(list(range(len(training_accuracy))), training_accuracy)\n",
        "ax1.plot(list(range(len(training_losses))), training_losses)\n",
        "\n",
        "ax2.plot(list(range(len(training_iter))), training_iter)"
      ],
      "metadata": {
        "colab": {
          "base_uri": "https://localhost:8080/",
          "height": 447
        },
        "id": "AIPRq6xi5yJ-",
        "outputId": "272ab404-d553-4745-bf88-eca77a30b79c"
      },
      "execution_count": null,
      "outputs": [
        {
          "output_type": "execute_result",
          "data": {
            "text/plain": [
              "[<matplotlib.lines.Line2D at 0x7e29f5acc460>]"
            ]
          },
          "metadata": {},
          "execution_count": 33
        },
        {
          "output_type": "display_data",
          "data": {
            "text/plain": [
              "<Figure size 640x480 with 2 Axes>"
            ],
            "image/png": "[encoded data removed]"
          },
          "metadata": {}
        }
      ]
    }
  ],
  "metadata": {
    "colab": {
      "provenance": [],
      "gpuType": "T4",
      "include_colab_link": true
    },
    "kernelspec": {
      "display_name": "Python 3",
      "name": "python3"
    },
    "language_info": {
      "name": "python"
    },
    "accelerator": "GPU"
  },
  "nbformat": 4,
  "nbformat_minor": 0
}